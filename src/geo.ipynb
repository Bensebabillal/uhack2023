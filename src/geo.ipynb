{
 "cells": [
  {
   "cell_type": "code",
   "execution_count": null,
   "metadata": {
    "tags": []
   },
   "outputs": [],
   "source": [
    "import geopandas as gpd\n",
    "\n",
    "# Read shapefile from /home/uhack/work/datasets/Bdat\n",
    "gdf = gpd.read_file('/home/jovyan/work/datasets/Bdat/SHP/munic_s.shp')\n",
    "\n",
    "# Print the columns of the shapefile\n",
    "print(gdf.columns)\n",
    "\n",
    "# Return rows where MUS_NM_REG = 'Outaouais'\n",
    "municipalities = gdf[gdf['MUS_NM_REG'] == 'Outaouais'][['MUS_NM_REG', 'MUS_NM_MRC', 'MUS_NM_MUN', 'geometry']]\n",
    "municipalities.columns = ['REGION_NAME', 'MRC_NAME', 'MUNICIPALITY_NAME', 'geometry']\n",
    "\n",
    "municipalities.describe()"
   ]
  },
  {
   "cell_type": "code",
   "execution_count": null,
   "metadata": {
    "tags": []
   },
   "outputs": [],
   "source": [
    "import folium\n",
    "\n",
    "# Create a folium map with the sectors using the mean of the coordinates as the center\n",
    "# HINT - the coordinates are in the GEOM column\n",
    "map = folium.Map(location=[municipalities.geometry.centroid.y.mean(), municipalities.geometry.centroid.x.mean()], zoom_start=8, tiles='cartodbpositron')\n",
    "\n",
    "# Add a GeoJson layer to the map\n",
    "tooltip = folium.features.GeoJsonTooltip(fields=['MUNICIPALITY_NAME'], aliases=['Municipality :'])\n",
    "folium.GeoJson(municipalities[['geometry', 'MUNICIPALITY_NAME']].to_json(), tooltip=tooltip, name='geojson').add_to(map)\n",
    "\n",
    "map\n"
   ]
  }
 ],
 "metadata": {
  "kernelspec": {
   "display_name": "Python 3 (ipykernel)",
   "language": "python",
   "name": "python3"
  },
  "language_info": {
   "codemirror_mode": {
    "name": "ipython",
    "version": 3
   },
   "file_extension": ".py",
   "mimetype": "text/x-python",
   "name": "python",
   "nbconvert_exporter": "python",
   "pygments_lexer": "ipython3",
   "version": "3.10.9"
  }
 },
 "nbformat": 4,
 "nbformat_minor": 4
}
